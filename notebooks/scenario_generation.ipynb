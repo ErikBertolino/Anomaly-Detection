{
 "cells": [
  {
   "cell_type": "markdown",
   "id": "oriental-truck",
   "metadata": {},
   "source": [
    "# MNIST - novelty detection scenario generation\n",
    "\n",
    "For the problem of novelty detection we define two sets:\n",
    "* _I_ = inlier set\n",
    "* _O_ = outlier set\n",
    "\n",
    "At training time, the model is presented with a _Training_ dataset so that the label of each sample belongs to _I_. The _Validation_ dataset is constructed to that the label of each sample belongs to _I_ and $Train \\cap Validation = \\varnothing$. The _Test_ set will contain both samples with labels belonging to _I_ as well as samples with labels belonging to _O_.\n",
    "\n",
    "* $ Training = \\{ (x, y) | y \\in I \\} $\n",
    "* $ Validation = \\{ (x, y) | y \\in I \\land x \\not\\in Training \\} $\n",
    "* $ Test = \\{ (x, y) | y \\in I \\cup O \\land x \\not\\in Training \\cup Validation \\} $\n",
    "\n",
    "\n",
    "## Define datasets percentages\n",
    "\n",
    ">NOTE: This is a generalization. If the dataset contains already a `test` split, then the _outlier_ samples will come only from this set.\n",
    "\n",
    "* _Train_: $ 0.6 \\times I $\n",
    "* _Validation_: $ 0.2 \\times I $\n",
    "* _Test_: $ 0.2 \\times I + 0.2 \\times O $\n",
    "\n",
    "\n",
    "## Scenario description\n",
    "\n",
    "Five scenarios with increasing complexity are generated. The scenarios are constructed to simulate novel classes detection over time, as well as clustering of the novel classes. For each scenario we train a new model with the Train / Validation / Test sets as described above.  The _Inlier/Outlier_ class membership is described below. \n",
    "\n",
    "Scenario | Inlier Set (_I_) | Outlier Set (_O_)\n",
    "---|---|---\n",
    "1 | {1} | {0} \n",
    "2 | {0, 1} | {2, 3} \n",
    "3 | {0, 1, 2, 3} | {4, 5, 6} \n",
    "4 | {0, 1, 2, 3, 4, 5, 6} | {7, 8} \n",
    "5 | {0, 1, 2, 3, 4, 5, 6, 7, 8} | {9} \n",
    "\n",
    "\n",
    "## Evaluation\n",
    "\n",
    "For each scenario, the accuracy of outliers detection is measured, and clustering is performed to recover the unknown outlier classes. The clustering membership performance is also measured (_i.e._ the percentage of samples with the same label that are correctly identified to belong to the same cluster).\n"
   ]
  },
  {
   "cell_type": "code",
   "execution_count": 54,
   "id": "exterior-information",
   "metadata": {},
   "outputs": [],
   "source": [
    "import torch\n",
    "import numpy as np\n",
    "import pandas as pd\n",
    "import matplotlib.pyplot as plt\n",
    "from pathlib import Path\n",
    "from torch.utils.data import Dataset, DataLoader\n",
    "from torchvision import transforms, utils"
   ]
  },
  {
   "cell_type": "code",
   "execution_count": 55,
   "id": "dated-applicant",
   "metadata": {},
   "outputs": [],
   "source": [
    "DATA_DIR = Path(\"/Users/ccaloian/Temp/dl-pytorch/data/MNIST/numpy\")\n",
    "OUT_DIR = Path(\"/Users/ccaloian/Temp/dl-pytorch/data/MNIST/novelty-detection\")"
   ]
  },
  {
   "cell_type": "markdown",
   "id": "activated-reviewer",
   "metadata": {},
   "source": [
    "## Download MNIST dataset"
   ]
  },
  {
   "cell_type": "markdown",
   "id": "powered-oracle",
   "metadata": {},
   "source": [
    "The MNIST dataset was downloaded using the following code:\n",
    "\n",
    "```bash\n",
    "aws s3 sync \\\n",
    "    s3://sagemaker-sample-data-eu-west-1/tensorflow/mnist \\\n",
    "    /Users/ccaloian/Temp/dl-pytorch/data/MNIST/numpy\n",
    "```"
   ]
  },
  {
   "cell_type": "code",
   "execution_count": 36,
   "id": "listed-anaheim",
   "metadata": {},
   "outputs": [],
   "source": [
    "scenarios = {\n",
    "    \"1\": {\n",
    "        \"inlier_classes\": [1],\n",
    "        \"outlier_classes\": [0],\n",
    "        \"prefix\": \"scenario-1\"\n",
    "    },\n",
    "    \"2\": {\n",
    "        \"inlier_classes\": [0, 1],\n",
    "        \"outlier_classes\": [2, 3],\n",
    "        \"prefix\": \"scenario-2\"\n",
    "    },\n",
    "    \"3\": {\n",
    "        \"inlier_classes\": [0, 1, 2, 3],\n",
    "        \"outlier_classes\": [4, 5, 6],\n",
    "        \"prefix\": \"scenario-3\"\n",
    "    },\n",
    "    \"4\": {\n",
    "        \"inlier_classes\": [0, 1, 2, 3, 4, 5, 6],\n",
    "        \"outlier_classes\": [7, 8],\n",
    "        \"prefix\": \"scenario-4\"\n",
    "    },\n",
    "    \"5\": {\n",
    "        \"inlier_classes\": [0, 1, 2, 3, 4, 5, 6, 7, 8],\n",
    "        \"outlier_classes\": [9],\n",
    "        \"prefix\": \"scenario-5\"\n",
    "    },\n",
    "}"
   ]
  },
  {
   "cell_type": "code",
   "execution_count": 57,
   "id": "vocational-beatles",
   "metadata": {},
   "outputs": [],
   "source": [
    "def make_mnist_novelty_detection_scenario(\n",
    "    inlier_classes: list, \n",
    "    outlier_classes: list, \n",
    "    prefix: str,\n",
    "    p : float = 0.7) -> tuple:\n",
    "    \"\"\"Create train/val/test sets for MNIST novelty detection scenarios.\n",
    "    \n",
    "    Train and Validation sets are created from p/(1-p) split of all the \n",
    "    `inlier_classes` in the MNIST `train` set. \n",
    "    \n",
    "    Test set contains all `inlier_classess` and `outlier_classes` from \n",
    "    the MNIST `eval` set.\n",
    "    \"\"\"\n",
    "    assert not np.any(np.isin(inlier_classes, outlier_classes)), \\\n",
    "        \"Inlier and Outlier classes are overlapping!\"\n",
    "    \n",
    "    eval_data = np.load(DATA_DIR / \"eval_data.npy\")\n",
    "    eval_labels = np.load(DATA_DIR / \"eval_labels.npy\")\n",
    "    train_data = np.load(DATA_DIR / \"train_data.npy\")\n",
    "    train_labels = np.load(DATA_DIR / \"train_labels.npy\")\n",
    "    \n",
    "    train_data_chunks = []\n",
    "    train_labels_chunks = []\n",
    "    validation_data_chunks = []\n",
    "    validation_labels_chunks = []\n",
    "    \n",
    "    # accumulate train and validation sets (data + labels)\n",
    "    for ic in inlier_classes:\n",
    "        ic_ix = np.argwhere(train_labels == ic).flatten()\n",
    "        np.random.shuffle(ic_ix)\n",
    "        n = len(ic_ix)\n",
    "        train_ix, validation_ix = ic_ix[:int(n*p)], ic_ix[int(n*p):]\n",
    "        train_data_chunks.append(train_data[train_ix])\n",
    "        train_labels_chunks.append(train_labels[train_ix])\n",
    "        validation_data_chunks.append(train_data[validation_ix])\n",
    "        validation_labels_chunks.append(train_labels[validation_ix])\n",
    "        \n",
    "    train_X = np.vstack(train_data_chunks).reshape(-1, 28, 28, 1)\n",
    "    train_y = np.hstack(train_labels_chunks).reshape(-1, 1)\n",
    "    val_X = np.vstack(validation_data_chunks).reshape(-1, 28, 28, 1)\n",
    "    val_y = np.hstack(validation_labels_chunks).reshape(-1, 1)\n",
    "    \n",
    "    # create test set\n",
    "    c_ix = np.argwhere(np.isin(eval_labels, inlier_classes + outlier_classes)).flatten()\n",
    "    test_X = eval_data[c_ix].reshape(-1, 28, 28, 1)\n",
    "    test_y = eval_labels[c_ix].reshape(-1, 1)\n",
    "    \n",
    "    # make sure the directory exists\n",
    "    (OUT_DIR / prefix).mkdir(parents=True, exist_ok=True)\n",
    "        \n",
    "    # write data to files\n",
    "    np.save(OUT_DIR / prefix / \"train_data.npy\", train_X)\n",
    "    np.save(OUT_DIR / prefix / \"train_labels.npy\", train_y)\n",
    "    np.save(OUT_DIR / prefix / \"validation_data.npy\", val_X)\n",
    "    np.save(OUT_DIR / prefix / \"validation_labels.npy\", val_y)\n",
    "    np.save(OUT_DIR / prefix / \"test_data.npy\", test_X)\n",
    "    np.save(OUT_DIR / prefix / \"test_labels.npy\", test_y)\n",
    "\n",
    "    return train_X, train_y, val_X, val_y, test_X, test_y"
   ]
  },
  {
   "cell_type": "code",
   "execution_count": 58,
   "id": "adopted-produce",
   "metadata": {},
   "outputs": [],
   "source": [
    "def load_mnist_scenario(prefix: str) -> tuple:\n",
    "    \"\"\"Load scenario data.\"\"\"\n",
    "    train_X = np.load(OUT_DIR / prefix / \"train_data.npy\")\n",
    "    train_y = np.load(OUT_DIR / prefix / \"train_labels.npy\")\n",
    "    val_X = np.load(OUT_DIR / prefix / \"validation_data.npy\")\n",
    "    val_y = np.load(OUT_DIR / prefix / \"validation_labels.npy\")\n",
    "    test_X = np.load(OUT_DIR / prefix / \"test_data.npy\")\n",
    "    test_y = np.load(OUT_DIR / prefix / \"test_labels.npy\")\n",
    "\n",
    "    return train_X, train_y, val_X, val_y, test_X, test_y"
   ]
  },
  {
   "cell_type": "code",
   "execution_count": 132,
   "id": "explicit-conversion",
   "metadata": {},
   "outputs": [
    {
     "data": {
      "image/png": "[encoded data removed]",
      "text/plain": [
       "<Figure size 432x288 with 1 Axes>"
      ]
     },
     "metadata": {
      "needs_background": "light"
     },
     "output_type": "display_data"
    },
    {
     "data": {
      "image/png": "[encoded data removed]",
      "text/plain": [
       "<Figure size 432x288 with 1 Axes>"
      ]
     },
     "metadata": {
      "needs_background": "light"
     },
     "output_type": "display_data"
    },
    {
     "data": {
      "image/png": "[encoded data removed]",
      "text/plain": [
       "<Figure size 432x288 with 1 Axes>"
      ]
     },
     "metadata": {
      "needs_background": "light"
     },
     "output_type": "display_data"
    },
    {
     "data": {
      "image/png": "[encoded data removed]",
      "text/plain": [
       "<Figure size 432x288 with 1 Axes>"
      ]
     },
     "metadata": {
      "needs_background": "light"
     },
     "output_type": "display_data"
    },
    {
     "data": {
      "image/png": "[encoded data removed]",
      "text/plain": [
       "<Figure size 432x288 with 1 Axes>"
      ]
     },
     "metadata": {
      "needs_background": "light"
     },
     "output_type": "display_data"
    }
   ],
   "source": [
    "for i, params in scenarios.items():\n",
    "    train_X, train_y, val_X, val_y, test_X, test_y = \\\n",
    "        make_mnist_novelty_detection_scenario(**params)\n",
    "    # save a figure with the dataset distribution\n",
    "    train_y_s = pd.Series(train_y.reshape(-1)).value_counts().sort_index()\n",
    "    val_y_s = pd.Series(val_y.reshape(-1)).value_counts().sort_index()\n",
    "    test_y_s = pd.Series(test_y.reshape(-1)).value_counts().sort_index()\n",
    "    df = pd.DataFrame({\"train\": train_y_s, \"validation\": val_y_s, \"test\": test_y_s})\n",
    "    fig = df.plot.bar(\n",
    "        stacked=True, \n",
    "        rot=0, \n",
    "        color={\"train\": \"lightskyblue\", \"validation\": \"lightsalmon\", \"test\": \"lightgreen\"}\n",
    "    ).get_figure();\n",
    "    fig.savefig(OUT_DIR / f\"scenario-{i}\" / \"dataset_distribution.png\")"
   ]
  },
  {
   "cell_type": "code",
   "execution_count": 131,
   "id": "military-blind",
   "metadata": {},
   "outputs": [
    {
     "data": {
      "image/png": "[encoded data removed]",
      "text/plain": [
       "<Figure size 432x288 with 1 Axes>"
      ]
     },
     "metadata": {
      "needs_background": "light"
     },
     "output_type": "display_data"
    }
   ],
   "source": [
    "train_X, train_y, val_X, val_y, test_X, test_y = load_mnist_scenario(\"scenario-3\")\n",
    "\n",
    "train_y_s = pd.Series(train_y.reshape(-1)).value_counts().sort_index()\n",
    "val_y_s = pd.Series(val_y.reshape(-1)).value_counts().sort_index()\n",
    "test_y_s = pd.Series(test_y.reshape(-1)).value_counts().sort_index()\n",
    "df = pd.DataFrame({\"train\": train_y_s, \"validation\": val_y_s, \"test\": test_y_s})\n",
    "\n",
    "fig = df.plot.bar(\n",
    "    stacked=True, \n",
    "    rot=0,\n",
    "    color={\"train\": \"lightskyblue\", \"validation\": \"lightsalmon\", \"test\": \"lightgreen\"}\n",
    ").get_figure();"
   ]
  },
  {
   "cell_type": "code",
   "execution_count": 133,
   "id": "sharp-isaac",
   "metadata": {},
   "outputs": [
    {
     "name": "stdout",
     "output_type": "stream",
     "text": [
      "Train data: (34676, 28, 28, 1)\n",
      "Train labels: (34676, 1)\n",
      "Validation data: (14870, 28, 28, 1)\n",
      "Validation labels: (14870, 1)\n",
      "Test data: (10000, 28, 28, 1)\n",
      "Test labels: (10000, 1)\n"
     ]
    }
   ],
   "source": [
    "print(f\"Train data: {train_X.shape}\")\n",
    "print(f\"Train labels: {train_y.shape}\")\n",
    "print(f\"Validation data: {val_X.shape}\")\n",
    "print(f\"Validation labels: {val_y.shape}\")\n",
    "print(f\"Test data: {test_X.shape}\")\n",
    "print(f\"Test labels: {test_y.shape}\")"
   ]
  },
  {
   "cell_type": "markdown",
   "id": "hundred-celebration",
   "metadata": {},
   "source": [
    "## Upload data to S3\n",
    "\n",
    "The generated scenarios are uploaded to S3 by running:\n",
    "\n",
    "```bash\n",
    "aws s3 sync \\\n",
    "    /Users/ccaloian/Temp/dl-pytorch/data/MNIST/novelty-detection \\\n",
    "    s3://novelty-detection-gan-grad\n",
    "```"
   ]
  },
  {
   "cell_type": "markdown",
   "id": "intimate-control",
   "metadata": {},
   "source": [
    "## Define PyTorch `Dataset` object\n",
    "\n",
    "Define `Dataset` object for scenario data to be consumed by models."
   ]
  },
  {
   "cell_type": "code",
   "execution_count": 134,
   "id": "instructional-asbestos",
   "metadata": {},
   "outputs": [],
   "source": [
    "class ScenarioDatasetMNIST(Dataset):\n",
    "    \"\"\"Novelty detection scenario dataset for MNIST.\"\"\"\n",
    "    \n",
    "    def __init__(self, root_dir, partition, scenario, transform=None):\n",
    "        self.root_dir = root_dir\n",
    "        self.partition = partition\n",
    "        self.scenario = scenario\n",
    "        self.transform = transform\n",
    "        self.data = np.load(f\"{root_dir}/scenario-{scenario}/{partition}_data.npy\")\n",
    "        self.labels = np.load(f\"{root_dir}/scenario-{scenario}/{partition}_labels.npy\")\n",
    "        \n",
    "    def __len__(self):\n",
    "        return len(self.labels)\n",
    "    \n",
    "    def __getitem__(self, idx):\n",
    "        if torch.is_tensor(idx):\n",
    "            idx = idx.to_list()\n",
    "        \n",
    "        sample = {\"images\": self.data[idx], \"labels\": self.labels[idx]}\n",
    "        \n",
    "        if self.transform:\n",
    "            sample = self.transform(sample)\n",
    "            \n",
    "        return sample\n",
    "        \n",
    "        \n",
    "class ToTensor(object):\n",
    "    \"\"\"Convert data sample (data and labels) to PyTorch tensors.\"\"\"\n",
    "    \n",
    "    def __call__(self, sample):\n",
    "        image, label = sample[\"images\"], sample[\"labels\"]\n",
    "        \n",
    "        # swap color channel axes to `channels first`\n",
    "        image = image.transpose((2, 0, 1))\n",
    "        return {\"images\": torch.from_numpy(image),\n",
    "                \"labels\": torch.from_numpy(label)}"
   ]
  },
  {
   "cell_type": "markdown",
   "id": "nasty-professional",
   "metadata": {},
   "source": [
    "## Test `Dataset` object\n",
    "\n",
    "Load a scenario dataset with `DataLoader` and visualize a sampled batch."
   ]
  },
  {
   "cell_type": "code",
   "execution_count": 135,
   "id": "attractive-rolling",
   "metadata": {},
   "outputs": [
    {
     "name": "stdout",
     "output_type": "stream",
     "text": [
      "0 torch.Size([1, 28, 28]) torch.Size([1])\n",
      "1 torch.Size([1, 28, 28]) torch.Size([1])\n",
      "2 torch.Size([1, 28, 28]) torch.Size([1])\n",
      "3 torch.Size([1, 28, 28]) torch.Size([1])\n"
     ]
    }
   ],
   "source": [
    "ROOT_DIR = \"/Users/ccaloian/Temp/dl-pytorch/data/MNIST/novelty-detection\"\n",
    "\n",
    "val_set = ScenarioDatasetMNIST(\n",
    "    root_dir=ROOT_DIR,\n",
    "    partition=\"validation\",\n",
    "    scenario=\"3\",\n",
    "    transform=ToTensor(),\n",
    ")\n",
    "\n",
    "for i in range(len(val_set)):\n",
    "    sample = val_set[i]\n",
    "    print(i, sample[\"images\"].size(), sample[\"labels\"].size())\n",
    "    if i == 3:\n",
    "        break"
   ]
  },
  {
   "cell_type": "code",
   "execution_count": 136,
   "id": "metallic-balance",
   "metadata": {},
   "outputs": [
    {
     "name": "stdout",
     "output_type": "stream",
     "text": [
      "3 torch.Size([16, 1, 28, 28]) torch.Size([16, 1])\n",
      "Batch labels: [2, 3, 3, 2, 2, 1, 2, 3, 3, 1, 1, 0, 2, 1, 3, 1]\n"
     ]
    },
    {
     "data": {
      "image/png": "[encoded data removed]",
      "text/plain": [
       "<Figure size 432x288 with 1 Axes>"
      ]
     },
     "metadata": {
      "needs_background": "light"
     },
     "output_type": "display_data"
    }
   ],
   "source": [
    "valsetloader = DataLoader(val_set, batch_size=16, shuffle=True, num_workers=0)\n",
    "\n",
    "# Helper function to show a batch\n",
    "def show_MNIST_batch(sample_batched):\n",
    "    \"\"\"Show image with landmarks for a batch of samples.\"\"\"\n",
    "    images_batch, labels_batch = \\\n",
    "            sample_batched[\"images\"], sample_batched[\"labels\"]\n",
    "    batch_size = len(images_batch)\n",
    "    im_size = images_batch.size(2)\n",
    "    grid_border_size = 2\n",
    "\n",
    "    grid = utils.make_grid(images_batch, nrow=8)\n",
    "    plt.imshow(grid.numpy().transpose((1, 2, 0)))\n",
    "\n",
    "    plt.title(\"Batch from dataloader\")\n",
    "        \n",
    "for i_batch, sample_batched in enumerate(valsetloader):\n",
    "    # observe 4th batch and stop.\n",
    "    if i_batch == 3:\n",
    "        print(i_batch, sample_batched[\"images\"].size(), sample_batched[\"labels\"].size())\n",
    "        print(\"Batch labels: \", end=\"\")\n",
    "        print([sample_batched[\"labels\"][i, 0].item() for i in range(sample_batched[\"labels\"].size(0))])\n",
    "        plt.figure()\n",
    "        show_MNIST_batch(sample_batched)\n",
    "        plt.axis(\"off\")\n",
    "        plt.show()\n",
    "        break"
   ]
  }
 ],
 "metadata": {
  "kernelspec": {
   "display_name": "aws-sagemaker",
   "language": "python",
   "name": "aws-sagemaker"
  },
  "language_info": {
   "codemirror_mode": {
    "name": "ipython",
    "version": 3
   },
   "file_extension": ".py",
   "mimetype": "text/x-python",
   "name": "python",
   "nbconvert_exporter": "python",
   "pygments_lexer": "ipython3",
   "version": "3.7.9"
  }
 },
 "nbformat": 4,
 "nbformat_minor": 5
}
