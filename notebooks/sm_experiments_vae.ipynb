{
 "cells": [
  {
   "cell_type": "markdown",
   "id": "portable-rugby",
   "metadata": {},
   "source": [
    "# VAE Anomaly Detection Experiments on SageMaker"
   ]
  },
  {
   "cell_type": "code",
   "execution_count": 1,
   "id": "protective-firewall",
   "metadata": {},
   "outputs": [
    {
     "name": "stdout",
     "output_type": "stream",
     "text": [
      "sagemaker version: 2.23.5\n",
      "Artifacts will be written to s3://novelty-detection-gan-grad-sagemaker/MNIST\n"
     ]
    }
   ],
   "source": [
    "import datetime\n",
    "import boto3\n",
    "import sagemaker\n",
    "from sagemaker import get_execution_role\n",
    "\n",
    "print(f'sagemaker version: {sagemaker.__version__}')\n",
    "\n",
    "sagemaker_session = sagemaker.Session()\n",
    "boto_session = sagemaker_session.boto_session\n",
    "sagemaker_client = boto_session.client('sagemaker')\n",
    "\n",
    "BUCKET = 'novelty-detection-gan-grad-sagemaker'\n",
    "PREFIX = 'MNIST'\n",
    "LOCAL_DATA_DIRECTORY = f'/Users/ccaloian/Temp/dl-pytorch/data/{PREFIX}/novelty-detection'\n",
    "\n",
    "print(f\"Artifacts will be written to s3://{BUCKET}/{PREFIX}\")\n",
    "\n",
    "# SageMaker Studio\n",
    "# role = get_execution_role()\n",
    "\n",
    "# Local\n",
    "role = \"arn:aws:iam::501545181352:role/service-role/AmazonSageMaker-ExecutionRole-20210120T103803\""
   ]
  },
  {
   "cell_type": "markdown",
   "id": "furnished-general",
   "metadata": {},
   "source": [
    "## Data Sources"
   ]
  },
  {
   "cell_type": "code",
   "execution_count": 2,
   "id": "shared-rider",
   "metadata": {},
   "outputs": [],
   "source": [
    "# prefix = 'novelty-detection-mnist'\n",
    "# training_input_path = sess.upload_data('edge_list.pickle', key_prefix=prefix+'/training')\n",
    "\n",
    "# MNIST Scenario\n",
    "scenario = 3\n",
    "\n",
    "# S3 data\n",
    "s3_training_input_path = 's3://novelty-detection-gan-grad-data/MNIST'\n",
    "s3_validation_input_path = 's3://novelty-detection-gan-grad-data/MNIST'\n",
    "s3_testing_input_path = 's3://novelty-detection-gan-grad-data/MNIST'\n",
    "\n",
    "# Local data\n",
    "training_input_path = 'file:///Users/ccaloian/Temp/dl-pytorch/data/MNIST/novelty-detection'\n",
    "validation_input_path = 'file:///Users/ccaloian/Temp/dl-pytorch/data/MNIST/novelty-detection'\n",
    "testing_input_path = 'file:///Users/ccaloian/Temp/dl-pytorch/data/MNIST/novelty-detection'"
   ]
  },
  {
   "cell_type": "markdown",
   "id": "reflected-occasion",
   "metadata": {},
   "source": [
    "## Set up Experiment"
   ]
  },
  {
   "cell_type": "code",
   "execution_count": 3,
   "id": "popular-anchor",
   "metadata": {},
   "outputs": [],
   "source": [
    "from smexperiments.experiment import Experiment\n",
    "from smexperiments.trial import Trial\n",
    "from smexperiments.trial_component import TrialComponent"
   ]
  },
  {
   "cell_type": "markdown",
   "id": "norman-valley",
   "metadata": {},
   "source": [
    "### Create an Experiment"
   ]
  },
  {
   "cell_type": "code",
   "execution_count": 4,
   "id": "conscious-interest",
   "metadata": {},
   "outputs": [],
   "source": [
    "experiment_name = f\"vae-{PREFIX}-scenario-{scenario}-{datetime.datetime.now().strftime('%Y%m%d%H%M')}\"\n",
    "description = f\"Novelty detection of MNIST hand-written digits scenario {scenario} using PyTorch VAE.\"\n",
    "\n",
    "vae_experiment = Experiment.create(\n",
    "    experiment_name=experiment_name, \n",
    "    description=description, \n",
    "    sagemaker_boto_client=sagemaker_client\n",
    ")"
   ]
  },
  {
   "cell_type": "markdown",
   "id": "chief-martial",
   "metadata": {},
   "source": [
    "### Create a Trial"
   ]
  },
  {
   "cell_type": "code",
   "execution_count": 5,
   "id": "another-niagara",
   "metadata": {},
   "outputs": [],
   "source": [
    "trial_name = f\"vae-trial-{datetime.datetime.now().strftime('%Y%m%d%H%M')}\"\n",
    "\n",
    "vae_trial = Trial.create(\n",
    "    trial_name=trial_name, \n",
    "    experiment_name=vae_experiment.experiment_name,\n",
    "    sagemaker_boto_client=sagemaker_client\n",
    ")"
   ]
  },
  {
   "cell_type": "markdown",
   "id": "exceptional-acquisition",
   "metadata": {},
   "source": [
    "### Define Estimator"
   ]
  },
  {
   "cell_type": "code",
   "execution_count": 6,
   "id": "extra-share",
   "metadata": {},
   "outputs": [],
   "source": [
    "from sagemaker.pytorch import PyTorch\n",
    "\n",
    "hyperparameters = {\n",
    "    'scenario': scenario, \n",
    "    'epochs': 30, \n",
    "    'batch_size': 128, \n",
    "    'latent_dims': 4,\n",
    "    'use_gpu': None\n",
    "}\n",
    "\n",
    "estimator = PyTorch(\n",
    "    entry_point='run.py',\n",
    "    source_dir='../sm',\n",
    "    hyperparameters=hyperparameters,\n",
    "    framework_version='1.6',\n",
    "    py_version='py3',\n",
    "    instance_count=1, \n",
    "    instance_type='ml.p2.xlarge',\n",
    "    output_path=f's3://{BUCKET}/{PREFIX}',\n",
    "    code_location=f's3://{BUCKET}/{PREFIX}',\n",
    "    base_job_name=f'vae-{PREFIX}-scenario-{scenario}',\n",
    "    role=role,\n",
    "    sagemaker_session=sagemaker_session,\n",
    ")"
   ]
  },
  {
   "cell_type": "markdown",
   "id": "lovely-export",
   "metadata": {},
   "source": [
    "### Associate the Estimator with the Trial and fit the model"
   ]
  },
  {
   "cell_type": "code",
   "execution_count": 7,
   "id": "amber-rough",
   "metadata": {
    "collapsed": true
   },
   "outputs": [
    {
     "name": "stderr",
     "output_type": "stream",
     "text": [
      "INFO:sagemaker.image_uris:Defaulting to the only supported framework/algorithm version: latest.\n",
      "INFO:sagemaker.image_uris:Ignoring unnecessary instance type: None.\n",
      "INFO:sagemaker:Creating training-job with name: vae-MNIST-scenario-3-2021-02-25-13-41-27-228\n"
     ]
    },
    {
     "name": "stdout",
     "output_type": "stream",
     "text": [
      "2021-02-25 13:41:28 Starting - Starting the training job...\n",
      "2021-02-25 13:41:52 Starting - Launching requested ML instancesProfilerReport-1614260487: InProgress\n",
      "......\n",
      "2021-02-25 13:42:54 Starting - Preparing the instances for training............\n",
      "2021-02-25 13:44:54 Downloading - Downloading input data...\n",
      "2021-02-25 13:45:35 Training - Downloading the training image.........\n",
      "2021-02-25 13:46:56 Training - Training image download completed. Training in progress.\u001b[34mbash: cannot set terminal process group (-1): Inappropriate ioctl for device\u001b[0m\n",
      "\u001b[34mbash: no job control in this shell\u001b[0m\n",
      "\u001b[34m2021-02-25 13:46:53,638 sagemaker-training-toolkit INFO     Imported framework sagemaker_pytorch_container.training\u001b[0m\n",
      "\u001b[34m2021-02-25 13:46:53,676 sagemaker_pytorch_container.training INFO     Block until all host DNS lookups succeed.\u001b[0m\n",
      "\u001b[34m2021-02-25 13:46:55,119 sagemaker_pytorch_container.training INFO     Invoking user training script.\u001b[0m\n",
      "\u001b[34m2021-02-25 13:46:55,597 sagemaker-training-toolkit INFO     Invoking user script\n",
      "\u001b[0m\n",
      "\u001b[34mTraining Env:\n",
      "\u001b[0m\n",
      "\u001b[34m{\n",
      "    \"additional_framework_parameters\": {},\n",
      "    \"channel_input_dirs\": {\n",
      "        \"testing\": \"/opt/ml/input/data/testing\",\n",
      "        \"training\": \"/opt/ml/input/data/training\",\n",
      "        \"validation\": \"/opt/ml/input/data/validation\"\n",
      "    },\n",
      "    \"current_host\": \"algo-1\",\n",
      "    \"framework_module\": \"sagemaker_pytorch_container.training:main\",\n",
      "    \"hosts\": [\n",
      "        \"algo-1\"\n",
      "    ],\n",
      "    \"hyperparameters\": {\n",
      "        \"batch_size\": 128,\n",
      "        \"scenario\": 3,\n",
      "        \"use_gpu\": null,\n",
      "        \"epochs\": 30,\n",
      "        \"latent_dims\": 4\n",
      "    },\n",
      "    \"input_config_dir\": \"/opt/ml/input/config\",\n",
      "    \"input_data_config\": {\n",
      "        \"testing\": {\n",
      "            \"TrainingInputMode\": \"File\",\n",
      "            \"S3DistributionType\": \"FullyReplicated\",\n",
      "            \"RecordWrapperType\": \"None\"\n",
      "        },\n",
      "        \"training\": {\n",
      "            \"TrainingInputMode\": \"File\",\n",
      "            \"S3DistributionType\": \"FullyReplicated\",\n",
      "            \"RecordWrapperType\": \"None\"\n",
      "        },\n",
      "        \"validation\": {\n",
      "            \"TrainingInputMode\": \"File\",\n",
      "            \"S3DistributionType\": \"FullyReplicated\",\n",
      "            \"RecordWrapperType\": \"None\"\n",
      "        }\n",
      "    },\n",
      "    \"input_dir\": \"/opt/ml/input\",\n",
      "    \"is_master\": true,\n",
      "    \"job_name\": \"vae-MNIST-scenario-3-2021-02-25-13-41-27-228\",\n",
      "    \"log_level\": 20,\n",
      "    \"master_hostname\": \"algo-1\",\n",
      "    \"model_dir\": \"/opt/ml/model\",\n",
      "    \"module_dir\": \"s3://novelty-detection-gan-grad-sagemaker/vae-MNIST-scenario-3-2021-02-25-13-41-27-228/source/sourcedir.tar.gz\",\n",
      "    \"module_name\": \"run\",\n",
      "    \"network_interface_name\": \"eth0\",\n",
      "    \"num_cpus\": 4,\n",
      "    \"num_gpus\": 1,\n",
      "    \"output_data_dir\": \"/opt/ml/output/data\",\n",
      "    \"output_dir\": \"/opt/ml/output\",\n",
      "    \"output_intermediate_dir\": \"/opt/ml/output/intermediate\",\n",
      "    \"resource_config\": {\n",
      "        \"current_host\": \"algo-1\",\n",
      "        \"hosts\": [\n",
      "            \"algo-1\"\n",
      "        ],\n",
      "        \"network_interface_name\": \"eth0\"\n",
      "    },\n",
      "    \"user_entry_point\": \"run.py\"\u001b[0m\n",
      "\u001b[34m}\n",
      "\u001b[0m\n",
      "\u001b[34mEnvironment variables:\n",
      "\u001b[0m\n",
      "\u001b[34mSM_HOSTS=[\"algo-1\"]\u001b[0m\n",
      "\u001b[34mSM_NETWORK_INTERFACE_NAME=eth0\u001b[0m\n",
      "\u001b[34mSM_HPS={\"batch_size\":128,\"epochs\":30,\"latent_dims\":4,\"scenario\":3,\"use_gpu\":null}\u001b[0m\n",
      "\u001b[34mSM_USER_ENTRY_POINT=run.py\u001b[0m\n",
      "\u001b[34mSM_FRAMEWORK_PARAMS={}\u001b[0m\n",
      "\u001b[34mSM_RESOURCE_CONFIG={\"current_host\":\"algo-1\",\"hosts\":[\"algo-1\"],\"network_interface_name\":\"eth0\"}\u001b[0m\n",
      "\u001b[34mSM_INPUT_DATA_CONFIG={\"testing\":{\"RecordWrapperType\":\"None\",\"S3DistributionType\":\"FullyReplicated\",\"TrainingInputMode\":\"File\"},\"training\":{\"RecordWrapperType\":\"None\",\"S3DistributionType\":\"FullyReplicated\",\"TrainingInputMode\":\"File\"},\"validation\":{\"RecordWrapperType\":\"None\",\"S3DistributionType\":\"FullyReplicated\",\"TrainingInputMode\":\"File\"}}\u001b[0m\n",
      "\u001b[34mSM_OUTPUT_DATA_DIR=/opt/ml/output/data\u001b[0m\n",
      "\u001b[34mSM_CHANNELS=[\"testing\",\"training\",\"validation\"]\u001b[0m\n",
      "\u001b[34mSM_CURRENT_HOST=algo-1\u001b[0m\n",
      "\u001b[34mSM_MODULE_NAME=run\u001b[0m\n",
      "\u001b[34mSM_LOG_LEVEL=20\u001b[0m\n",
      "\u001b[34mSM_FRAMEWORK_MODULE=sagemaker_pytorch_container.training:main\u001b[0m\n",
      "\u001b[34mSM_INPUT_DIR=/opt/ml/input\u001b[0m\n",
      "\u001b[34mSM_INPUT_CONFIG_DIR=/opt/ml/input/config\u001b[0m\n",
      "\u001b[34mSM_OUTPUT_DIR=/opt/ml/output\u001b[0m\n",
      "\u001b[34mSM_NUM_CPUS=4\u001b[0m\n",
      "\u001b[34mSM_NUM_GPUS=1\u001b[0m\n",
      "\u001b[34mSM_MODEL_DIR=/opt/ml/model\u001b[0m\n",
      "\u001b[34mSM_MODULE_DIR=s3://novelty-detection-gan-grad-sagemaker/vae-MNIST-scenario-3-2021-02-25-13-41-27-228/source/sourcedir.tar.gz\u001b[0m\n",
      "\u001b[34mSM_TRAINING_ENV={\"additional_framework_parameters\":{},\"channel_input_dirs\":{\"testing\":\"/opt/ml/input/data/testing\",\"training\":\"/opt/ml/input/data/training\",\"validation\":\"/opt/ml/input/data/validation\"},\"current_host\":\"algo-1\",\"framework_module\":\"sagemaker_pytorch_container.training:main\",\"hosts\":[\"algo-1\"],\"hyperparameters\":{\"batch_size\":128,\"epochs\":30,\"latent_dims\":4,\"scenario\":3,\"use_gpu\":null},\"input_config_dir\":\"/opt/ml/input/config\",\"input_data_config\":{\"testing\":{\"RecordWrapperType\":\"None\",\"S3DistributionType\":\"FullyReplicated\",\"TrainingInputMode\":\"File\"},\"training\":{\"RecordWrapperType\":\"None\",\"S3DistributionType\":\"FullyReplicated\",\"TrainingInputMode\":\"File\"},\"validation\":{\"RecordWrapperType\":\"None\",\"S3DistributionType\":\"FullyReplicated\",\"TrainingInputMode\":\"File\"}},\"input_dir\":\"/opt/ml/input\",\"is_master\":true,\"job_name\":\"vae-MNIST-scenario-3-2021-02-25-13-41-27-228\",\"log_level\":20,\"master_hostname\":\"algo-1\",\"model_dir\":\"/opt/ml/model\",\"module_dir\":\"s3://novelty-detection-gan-grad-sagemaker/vae-MNIST-scenario-3-2021-02-25-13-41-27-228/source/sourcedir.tar.gz\",\"module_name\":\"run\",\"network_interface_name\":\"eth0\",\"num_cpus\":4,\"num_gpus\":1,\"output_data_dir\":\"/opt/ml/output/data\",\"output_dir\":\"/opt/ml/output\",\"output_intermediate_dir\":\"/opt/ml/output/intermediate\",\"resource_config\":{\"current_host\":\"algo-1\",\"hosts\":[\"algo-1\"],\"network_interface_name\":\"eth0\"},\"user_entry_point\":\"run.py\"}\u001b[0m\n",
      "\u001b[34mSM_USER_ARGS=[\"--batch_size\",\"128\",\"--epochs\",\"30\",\"--latent_dims\",\"4\",\"--scenario\",\"3\",\"--use_gpu\",\"\"]\u001b[0m\n",
      "\u001b[34mSM_OUTPUT_INTERMEDIATE_DIR=/opt/ml/output/intermediate\u001b[0m\n",
      "\u001b[34mSM_CHANNEL_TESTING=/opt/ml/input/data/testing\u001b[0m\n",
      "\u001b[34mSM_CHANNEL_TRAINING=/opt/ml/input/data/training\u001b[0m\n",
      "\u001b[34mSM_CHANNEL_VALIDATION=/opt/ml/input/data/validation\u001b[0m\n",
      "\u001b[34mSM_HP_BATCH_SIZE=128\u001b[0m\n",
      "\u001b[34mSM_HP_SCENARIO=3\u001b[0m\n",
      "\u001b[34mSM_HP_USE_GPU=\u001b[0m\n",
      "\u001b[34mSM_HP_EPOCHS=30\u001b[0m\n",
      "\u001b[34mSM_HP_LATENT_DIMS=4\u001b[0m\n",
      "\u001b[34mPYTHONPATH=/opt/ml/code:/opt/conda/bin:/opt/conda/lib/python36.zip:/opt/conda/lib/python3.6:/opt/conda/lib/python3.6/lib-dynload:/opt/conda/lib/python3.6/site-packages\n",
      "\u001b[0m\n",
      "\u001b[34mInvoking script with the following command:\n",
      "\u001b[0m\n",
      "\u001b[34m/opt/conda/bin/python3.6 run.py --batch_size 128 --epochs 30 --latent_dims 4 --scenario 3 --use_gpu \n",
      "\n",
      "\u001b[0m\n",
      "\u001b[34mNumber of parameters: 345993\u001b[0m\n",
      "\u001b[34mTraining ...\u001b[0m\n",
      "\u001b[34m[2021-02-25 13:47:01.672 algo-1:25 INFO json_config.py:90] Creating hook from json_config at /opt/ml/input/config/debughookconfig.json.\u001b[0m\n",
      "\u001b[34m[2021-02-25 13:47:01.673 algo-1:25 INFO hook.py:193] tensorboard_dir has not been set for the hook. SMDebug will not be exporting tensorboard summaries.\u001b[0m\n",
      "\u001b[34m[2021-02-25 13:47:01.673 algo-1:25 INFO hook.py:238] Saving to /opt/ml/output/tensors\u001b[0m\n",
      "\u001b[34m[2021-02-25 13:47:01.673 algo-1:25 INFO state_store.py:67] The checkpoint config file /opt/ml/input/config/checkpointconfig.json does not exist.\u001b[0m\n",
      "\u001b[34m[2021-02-25 13:47:01.695 algo-1:25 INFO hook.py:398] Monitoring the collections: losses\u001b[0m\n",
      "\u001b[34m[2021-02-25 13:47:01.696 algo-1:25 INFO hook.py:459] Hook is writing from the hook with pid: 25\n",
      "\u001b[0m\n",
      "\u001b[34mEpoch [1 / 30] Train Loss: 25183.465348; Validation Loss: 18622.091978;\u001b[0m\n",
      "\u001b[34mEpoch [2 / 30] Train Loss: 17997.640820; Validation Loss: 17277.990569;\u001b[0m\n",
      "\u001b[34mEpoch [3 / 30] Train Loss: 17156.296090; Validation Loss: 16687.526883;\u001b[0m\n",
      "\u001b[34mEpoch [4 / 30] Train Loss: 16664.844859; Validation Loss: 16274.266611;\u001b[0m\n",
      "\u001b[34mEpoch [5 / 30] Train Loss: 16306.517535; Validation Loss: 15965.671965;\u001b[0m\n",
      "\u001b[34mEpoch [6 / 30] Train Loss: 16023.133109; Validation Loss: 15889.801369;\u001b[0m\n",
      "\u001b[34mEpoch [7 / 30] Train Loss: 15822.068844; Validation Loss: 15574.937057;\u001b[0m\n",
      "\u001b[34mEpoch [8 / 30] Train Loss: 15680.214047; Validation Loss: 15554.909134;\u001b[0m\n",
      "\u001b[34mEpoch [9 / 30] Train Loss: 15549.833660; Validation Loss: 15399.783691;\u001b[0m\n",
      "\u001b[34mEpoch [10 / 30] Train Loss: 15459.491687; Validation Loss: 15377.882270;\u001b[0m\n",
      "\u001b[34mEpoch [11 / 30] Train Loss: 15360.614801; Validation Loss: 15167.513274;\u001b[0m\n",
      "\u001b[34mEpoch [12 / 30] Train Loss: 15283.397656; Validation Loss: 15259.254313;\u001b[0m\n"
     ]
    },
    {
     "name": "stdout",
     "output_type": "stream",
     "text": [
      "\u001b[34mEpoch [13 / 30] Train Loss: 15218.003957; Validation Loss: 15074.756831;\u001b[0m\n",
      "\u001b[34mEpoch [14 / 30] Train Loss: 15152.438309; Validation Loss: 15101.855767;\u001b[0m\n",
      "\u001b[34mEpoch [15 / 30] Train Loss: 15101.317074; Validation Loss: 15043.985523;\u001b[0m\n",
      "\u001b[34mEpoch [16 / 30] Train Loss: 15064.637461; Validation Loss: 14991.875524;\u001b[0m\n",
      "\u001b[34mEpoch [17 / 30] Train Loss: 15011.407730; Validation Loss: 14986.823957;\u001b[0m\n",
      "\u001b[34mEpoch [18 / 30] Train Loss: 14988.769590; Validation Loss: 14981.354121;\u001b[0m\n",
      "\u001b[34mEpoch [19 / 30] Train Loss: 14942.037717; Validation Loss: 14913.819797;\u001b[0m\n",
      "\u001b[34mEpoch [20 / 30] Train Loss: 14897.159758; Validation Loss: 14912.680854;\u001b[0m\n",
      "\u001b[34mEpoch [21 / 30] Train Loss: 14874.336900; Validation Loss: 14810.637795;\u001b[0m\n",
      "\u001b[34mEpoch [22 / 30] Train Loss: 14844.583602; Validation Loss: 14870.785337;\u001b[0m\n",
      "\u001b[34mEpoch [23 / 30] Train Loss: 14813.768125; Validation Loss: 14932.414117;\u001b[0m\n",
      "\u001b[34mEpoch [24 / 30] Train Loss: 14786.612145; Validation Loss: 14800.592448;\u001b[0m\n",
      "\u001b[34mEpoch [25 / 30] Train Loss: 14757.918832; Validation Loss: 14761.921251;\u001b[0m\n",
      "\u001b[34mEpoch [26 / 30] Train Loss: 14744.809031; Validation Loss: 14784.501944;\u001b[0m\n",
      "\u001b[34mEpoch [27 / 30] Train Loss: 14708.201195; Validation Loss: 14781.298037;\u001b[0m\n",
      "\u001b[34mEpoch [28 / 30] Train Loss: 14690.028410; Validation Loss: 14743.346200;\u001b[0m\n",
      "\u001b[34mEpoch [29 / 30] Train Loss: 14673.412961; Validation Loss: 14785.540446;\u001b[0m\n",
      "\u001b[34mEpoch [30 / 30] Train Loss: 14654.163988; Validation Loss: 14731.383934;\u001b[0m\n",
      "\u001b[34m2021-02-25 13:48:26,993 sagemaker-training-toolkit INFO     Reporting training SUCCESS\u001b[0m\n",
      "\n",
      "2021-02-25 13:48:38 Uploading - Uploading generated training model\n",
      "2021-02-25 13:48:38 Completed - Training job completed\n",
      "Training seconds: 239\n",
      "Billable seconds: 239\n"
     ]
    }
   ],
   "source": [
    "estimator.fit(\n",
    "    inputs={\n",
    "        'training': s3_training_input_path, \n",
    "        'validation': s3_validation_input_path, \n",
    "        'testing': s3_testing_input_path\n",
    "    },\n",
    "    experiment_config={\n",
    "        \"TrialName\": vae_trial.trial_name,\n",
    "        \"TrialComponentDisplayName\": \"Training\",\n",
    "    }\n",
    ")"
   ]
  },
  {
   "cell_type": "markdown",
   "id": "pressed-royalty",
   "metadata": {},
   "source": [
    "## Tracking Distributed Hyperparameter Search with Multiple Trials"
   ]
  },
  {
   "cell_type": "code",
   "execution_count": 8,
   "id": "instrumental-genius",
   "metadata": {
    "collapsed": true
   },
   "outputs": [
    {
     "ename": "ClientError",
     "evalue": "An error occurred (ValidationException) when calling the CreateTrialComponent operation: Trial Component creation is currently restricted to the SageMaker runtime. Try supplying an experiment config when creating a job instead.",
     "output_type": "error",
     "traceback": [
      "\u001b[0;31m---------------------------------------------------------------------------\u001b[0m",
      "\u001b[0;31mClientError\u001b[0m                               Traceback (most recent call last)",
      "\u001b[0;32m<ipython-input-8-962fd955d06b>\u001b[0m in \u001b[0;36m<module>\u001b[0;34m\u001b[0m\n\u001b[1;32m      1\u001b[0m \u001b[0;32mfrom\u001b[0m \u001b[0msmexperiments\u001b[0m\u001b[0;34m.\u001b[0m\u001b[0mtracker\u001b[0m \u001b[0;32mimport\u001b[0m \u001b[0mTracker\u001b[0m\u001b[0;34m\u001b[0m\u001b[0;34m\u001b[0m\u001b[0m\n\u001b[1;32m      2\u001b[0m \u001b[0;34m\u001b[0m\u001b[0m\n\u001b[0;32m----> 3\u001b[0;31m \u001b[0;32mwith\u001b[0m \u001b[0mTracker\u001b[0m\u001b[0;34m.\u001b[0m\u001b[0mcreate\u001b[0m\u001b[0;34m(\u001b[0m\u001b[0mdisplay_name\u001b[0m\u001b[0;34m=\u001b[0m\u001b[0;34m\"Preprocessing\"\u001b[0m\u001b[0;34m,\u001b[0m \u001b[0msagemaker_boto_client\u001b[0m\u001b[0;34m=\u001b[0m\u001b[0msagemaker_client\u001b[0m\u001b[0;34m)\u001b[0m \u001b[0;32mas\u001b[0m \u001b[0mtracker\u001b[0m\u001b[0;34m:\u001b[0m\u001b[0;34m\u001b[0m\u001b[0;34m\u001b[0m\u001b[0m\n\u001b[0m\u001b[1;32m      4\u001b[0m     tracker.log_parameters({\n\u001b[1;32m      5\u001b[0m         \u001b[0;34m\"normalization_mean\"\u001b[0m\u001b[0;34m:\u001b[0m \u001b[0;36m0.1307\u001b[0m\u001b[0;34m,\u001b[0m\u001b[0;34m\u001b[0m\u001b[0;34m\u001b[0m\u001b[0m\n",
      "\u001b[0;32m~/opt/anaconda3/envs/aws-sagemaker/lib/python3.7/site-packages/smexperiments/tracker.py\u001b[0m in \u001b[0;36mcreate\u001b[0;34m(cls, display_name, artifact_bucket, artifact_prefix, boto3_session, sagemaker_boto_client)\u001b[0m\n\u001b[1;32m    195\u001b[0m             \u001b[0mtrial_component_name\u001b[0m\u001b[0;34m=\u001b[0m\u001b[0m_utils\u001b[0m\u001b[0;34m.\u001b[0m\u001b[0mname\u001b[0m\u001b[0;34m(\u001b[0m\u001b[0;34m\"TrialComponent\"\u001b[0m\u001b[0;34m)\u001b[0m\u001b[0;34m,\u001b[0m\u001b[0;34m\u001b[0m\u001b[0;34m\u001b[0m\u001b[0m\n\u001b[1;32m    196\u001b[0m             \u001b[0mdisplay_name\u001b[0m\u001b[0;34m=\u001b[0m\u001b[0mdisplay_name\u001b[0m\u001b[0;34m,\u001b[0m\u001b[0;34m\u001b[0m\u001b[0;34m\u001b[0m\u001b[0m\n\u001b[0;32m--> 197\u001b[0;31m             \u001b[0msagemaker_boto_client\u001b[0m\u001b[0;34m=\u001b[0m\u001b[0msagemaker_boto_client\u001b[0m\u001b[0;34m,\u001b[0m\u001b[0;34m\u001b[0m\u001b[0;34m\u001b[0m\u001b[0m\n\u001b[0m\u001b[1;32m    198\u001b[0m         )\n\u001b[1;32m    199\u001b[0m \u001b[0;34m\u001b[0m\u001b[0m\n",
      "\u001b[0;32m~/opt/anaconda3/envs/aws-sagemaker/lib/python3.7/site-packages/smexperiments/trial_component.py\u001b[0m in \u001b[0;36mcreate\u001b[0;34m(cls, trial_component_name, display_name, tags, sagemaker_boto_client)\u001b[0m\n\u001b[1;32m    195\u001b[0m             \u001b[0mdisplay_name\u001b[0m\u001b[0;34m=\u001b[0m\u001b[0mdisplay_name\u001b[0m\u001b[0;34m,\u001b[0m\u001b[0;34m\u001b[0m\u001b[0;34m\u001b[0m\u001b[0m\n\u001b[1;32m    196\u001b[0m             \u001b[0mtags\u001b[0m\u001b[0;34m=\u001b[0m\u001b[0mtags\u001b[0m\u001b[0;34m,\u001b[0m\u001b[0;34m\u001b[0m\u001b[0;34m\u001b[0m\u001b[0m\n\u001b[0;32m--> 197\u001b[0;31m             \u001b[0msagemaker_boto_client\u001b[0m\u001b[0;34m=\u001b[0m\u001b[0msagemaker_boto_client\u001b[0m\u001b[0;34m,\u001b[0m\u001b[0;34m\u001b[0m\u001b[0;34m\u001b[0m\u001b[0m\n\u001b[0m\u001b[1;32m    198\u001b[0m         )\n\u001b[1;32m    199\u001b[0m \u001b[0;34m\u001b[0m\u001b[0m\n",
      "\u001b[0;32m~/opt/anaconda3/envs/aws-sagemaker/lib/python3.7/site-packages/smexperiments/_base_types.py\u001b[0m in \u001b[0;36m_construct\u001b[0;34m(cls, boto_method_name, sagemaker_boto_client, **kwargs)\u001b[0m\n\u001b[1;32m    166\u001b[0m         \u001b[0msagemaker_boto_client\u001b[0m \u001b[0;34m=\u001b[0m \u001b[0msagemaker_boto_client\u001b[0m \u001b[0;32mor\u001b[0m \u001b[0m_utils\u001b[0m\u001b[0;34m.\u001b[0m\u001b[0msagemaker_client\u001b[0m\u001b[0;34m(\u001b[0m\u001b[0;34m)\u001b[0m\u001b[0;34m\u001b[0m\u001b[0;34m\u001b[0m\u001b[0m\n\u001b[1;32m    167\u001b[0m         \u001b[0minstance\u001b[0m \u001b[0;34m=\u001b[0m \u001b[0mcls\u001b[0m\u001b[0;34m(\u001b[0m\u001b[0msagemaker_boto_client\u001b[0m\u001b[0;34m,\u001b[0m \u001b[0;34m**\u001b[0m\u001b[0mkwargs\u001b[0m\u001b[0;34m)\u001b[0m\u001b[0;34m\u001b[0m\u001b[0;34m\u001b[0m\u001b[0m\n\u001b[0;32m--> 168\u001b[0;31m         \u001b[0;32mreturn\u001b[0m \u001b[0minstance\u001b[0m\u001b[0;34m.\u001b[0m\u001b[0m_invoke_api\u001b[0m\u001b[0;34m(\u001b[0m\u001b[0mboto_method_name\u001b[0m\u001b[0;34m,\u001b[0m \u001b[0mkwargs\u001b[0m\u001b[0;34m)\u001b[0m\u001b[0;34m\u001b[0m\u001b[0;34m\u001b[0m\u001b[0m\n\u001b[0m\u001b[1;32m    169\u001b[0m \u001b[0;34m\u001b[0m\u001b[0m\n\u001b[1;32m    170\u001b[0m     \u001b[0;32mdef\u001b[0m \u001b[0mwith_boto\u001b[0m\u001b[0;34m(\u001b[0m\u001b[0mself\u001b[0m\u001b[0;34m,\u001b[0m \u001b[0mboto_dict\u001b[0m\u001b[0;34m)\u001b[0m\u001b[0;34m:\u001b[0m\u001b[0;34m\u001b[0m\u001b[0;34m\u001b[0m\u001b[0m\n",
      "\u001b[0;32m~/opt/anaconda3/envs/aws-sagemaker/lib/python3.7/site-packages/smexperiments/_base_types.py\u001b[0m in \u001b[0;36m_invoke_api\u001b[0;34m(self, boto_method, boto_method_members)\u001b[0m\n\u001b[1;32m    184\u001b[0m         \u001b[0mapi_kwargs\u001b[0m \u001b[0;34m=\u001b[0m \u001b[0mself\u001b[0m\u001b[0;34m.\u001b[0m\u001b[0mto_boto\u001b[0m\u001b[0;34m(\u001b[0m\u001b[0mapi_values\u001b[0m\u001b[0;34m)\u001b[0m\u001b[0;34m\u001b[0m\u001b[0;34m\u001b[0m\u001b[0m\n\u001b[1;32m    185\u001b[0m         \u001b[0mapi_method\u001b[0m \u001b[0;34m=\u001b[0m \u001b[0mgetattr\u001b[0m\u001b[0;34m(\u001b[0m\u001b[0mself\u001b[0m\u001b[0;34m.\u001b[0m\u001b[0msagemaker_boto_client\u001b[0m\u001b[0;34m,\u001b[0m \u001b[0mboto_method\u001b[0m\u001b[0;34m)\u001b[0m\u001b[0;34m\u001b[0m\u001b[0;34m\u001b[0m\u001b[0m\n\u001b[0;32m--> 186\u001b[0;31m         \u001b[0mapi_boto_response\u001b[0m \u001b[0;34m=\u001b[0m \u001b[0mapi_method\u001b[0m\u001b[0;34m(\u001b[0m\u001b[0;34m**\u001b[0m\u001b[0mapi_kwargs\u001b[0m\u001b[0;34m)\u001b[0m\u001b[0;34m\u001b[0m\u001b[0;34m\u001b[0m\u001b[0m\n\u001b[0m\u001b[1;32m    187\u001b[0m         \u001b[0;32mreturn\u001b[0m \u001b[0mself\u001b[0m\u001b[0;34m.\u001b[0m\u001b[0mwith_boto\u001b[0m\u001b[0;34m(\u001b[0m\u001b[0mapi_boto_response\u001b[0m\u001b[0;34m)\u001b[0m\u001b[0;34m\u001b[0m\u001b[0;34m\u001b[0m\u001b[0m\n",
      "\u001b[0;32m~/opt/anaconda3/envs/aws-sagemaker/lib/python3.7/site-packages/botocore/client.py\u001b[0m in \u001b[0;36m_api_call\u001b[0;34m(self, *args, **kwargs)\u001b[0m\n\u001b[1;32m    355\u001b[0m                     \"%s() only accepts keyword arguments.\" % py_operation_name)\n\u001b[1;32m    356\u001b[0m             \u001b[0;31m# The \"self\" in this scope is referring to the BaseClient.\u001b[0m\u001b[0;34m\u001b[0m\u001b[0;34m\u001b[0m\u001b[0;34m\u001b[0m\u001b[0m\n\u001b[0;32m--> 357\u001b[0;31m             \u001b[0;32mreturn\u001b[0m \u001b[0mself\u001b[0m\u001b[0;34m.\u001b[0m\u001b[0m_make_api_call\u001b[0m\u001b[0;34m(\u001b[0m\u001b[0moperation_name\u001b[0m\u001b[0;34m,\u001b[0m \u001b[0mkwargs\u001b[0m\u001b[0;34m)\u001b[0m\u001b[0;34m\u001b[0m\u001b[0;34m\u001b[0m\u001b[0m\n\u001b[0m\u001b[1;32m    358\u001b[0m \u001b[0;34m\u001b[0m\u001b[0m\n\u001b[1;32m    359\u001b[0m         \u001b[0m_api_call\u001b[0m\u001b[0;34m.\u001b[0m\u001b[0m__name__\u001b[0m \u001b[0;34m=\u001b[0m \u001b[0mstr\u001b[0m\u001b[0;34m(\u001b[0m\u001b[0mpy_operation_name\u001b[0m\u001b[0;34m)\u001b[0m\u001b[0;34m\u001b[0m\u001b[0;34m\u001b[0m\u001b[0m\n",
      "\u001b[0;32m~/opt/anaconda3/envs/aws-sagemaker/lib/python3.7/site-packages/botocore/client.py\u001b[0m in \u001b[0;36m_make_api_call\u001b[0;34m(self, operation_name, api_params)\u001b[0m\n\u001b[1;32m    674\u001b[0m             \u001b[0merror_code\u001b[0m \u001b[0;34m=\u001b[0m \u001b[0mparsed_response\u001b[0m\u001b[0;34m.\u001b[0m\u001b[0mget\u001b[0m\u001b[0;34m(\u001b[0m\u001b[0;34m\"Error\"\u001b[0m\u001b[0;34m,\u001b[0m \u001b[0;34m{\u001b[0m\u001b[0;34m}\u001b[0m\u001b[0;34m)\u001b[0m\u001b[0;34m.\u001b[0m\u001b[0mget\u001b[0m\u001b[0;34m(\u001b[0m\u001b[0;34m\"Code\"\u001b[0m\u001b[0;34m)\u001b[0m\u001b[0;34m\u001b[0m\u001b[0;34m\u001b[0m\u001b[0m\n\u001b[1;32m    675\u001b[0m             \u001b[0merror_class\u001b[0m \u001b[0;34m=\u001b[0m \u001b[0mself\u001b[0m\u001b[0;34m.\u001b[0m\u001b[0mexceptions\u001b[0m\u001b[0;34m.\u001b[0m\u001b[0mfrom_code\u001b[0m\u001b[0;34m(\u001b[0m\u001b[0merror_code\u001b[0m\u001b[0;34m)\u001b[0m\u001b[0;34m\u001b[0m\u001b[0;34m\u001b[0m\u001b[0m\n\u001b[0;32m--> 676\u001b[0;31m             \u001b[0;32mraise\u001b[0m \u001b[0merror_class\u001b[0m\u001b[0;34m(\u001b[0m\u001b[0mparsed_response\u001b[0m\u001b[0;34m,\u001b[0m \u001b[0moperation_name\u001b[0m\u001b[0;34m)\u001b[0m\u001b[0;34m\u001b[0m\u001b[0;34m\u001b[0m\u001b[0m\n\u001b[0m\u001b[1;32m    677\u001b[0m         \u001b[0;32melse\u001b[0m\u001b[0;34m:\u001b[0m\u001b[0;34m\u001b[0m\u001b[0;34m\u001b[0m\u001b[0m\n\u001b[1;32m    678\u001b[0m             \u001b[0;32mreturn\u001b[0m \u001b[0mparsed_response\u001b[0m\u001b[0;34m\u001b[0m\u001b[0;34m\u001b[0m\u001b[0m\n",
      "\u001b[0;31mClientError\u001b[0m: An error occurred (ValidationException) when calling the CreateTrialComponent operation: Trial Component creation is currently restricted to the SageMaker runtime. Try supplying an experiment config when creating a job instead."
     ]
    }
   ],
   "source": [
    "from smexperiments.tracker import Tracker\n",
    "\n",
    "with Tracker.create(display_name=\"Preprocessing\", sagemaker_boto_client=sagemaker_client) as tracker:\n",
    "    tracker.log_parameters({\n",
    "        \"normalization_mean\": 0.1307,\n",
    "        \"normalization_std\": 0.3081,\n",
    "    })\n",
    "    \n",
    "    tracker.log_input(name=f\"mnist-scenario-{scenario}\", media_type=\"s3/uri\", value=s3_training_input_path)"
   ]
  },
  {
   "cell_type": "code",
   "execution_count": null,
   "id": "dramatic-infection",
   "metadata": {},
   "outputs": [],
   "source": [
    "experiment_name = f\"mnist-scenario-{scenario}-{datetime.datetime.now().strftime('%Y%m%d%H%M')}\"\n",
    "description = f\"Novelty detection of MNIST hand-written digits scenario {scenario} using PyTorch VAE.\"\n",
    "\n",
    "mnist_experiment = Experiment.create(\n",
    "    experiment_name=experiment_name,\n",
    "    description=description, \n",
    "    sagemaker_boto_client=sagemaker_client\n",
    ")"
   ]
  },
  {
   "cell_type": "code",
   "execution_count": null,
   "id": "charged-appearance",
   "metadata": {},
   "outputs": [],
   "source": [
    "latent_dims_trial_name_map = {} # Keep references to each Trial object\n",
    "\n",
    "# If you want to run the following training jobs asynchronously, you may need to increase\n",
    "# your resource limit. Otherwise, you can run them sequentially.\n",
    "for i, latent_dims in enumerate([2, 4, 8]):\n",
    "    \n",
    "    # create Trial object\n",
    "    trial_name = f\"torch-{latent_dims}-latent-dims-{datetime.datetime.now().strftime('%Y%m%d%H%M')}\"\n",
    "    mnist_trial = Trial.create(\n",
    "        trial_name=trial_name, \n",
    "        experiment_name=mnist_experiment.experiment_name,\n",
    "        sagemaker_boto_client=sagemaker_client,\n",
    "    )\n",
    "    latent_dims_trial_name_map[latent_dims] = trial_name\n",
    "    \n",
    "    # Associate the proprocessing trial component with the current trial\n",
    "    mnist_trial.add_trial_component(tracker.trial_component)\n",
    "    \n",
    "    # all input configurations, parameters, and metrics specified in estimator \n",
    "    # definition are automatically tracked\n",
    "    estimator = PyTorch(\n",
    "        entry_point='run.py',\n",
    "        source_dir='../sm',\n",
    "        hyperparameters=hyperparameters,\n",
    "        framework_version='1.6',\n",
    "        py_version='py3',\n",
    "        instance_count=1, \n",
    "        instance_type='ml.p2.xlarge',\n",
    "        output_path=f's3://{BUCKET}/{PREFIX}',\n",
    "        code_location=f's3://{BUCKET}/{PREFIX}',\n",
    "        base_job_name=f'vae-{PREFIX}-scenario-{scenario}',\n",
    "        role=role,\n",
    "        sagemaker_session=sagemaker_session,\n",
    "        hyperparameters={\n",
    "            'scenario': scenario, \n",
    "            'epochs': 30, \n",
    "            'batch_size': 128, \n",
    "            'latent_dims': latent_dims,\n",
    "            'use_gpu': None\n",
    "        },\n",
    "        metric_definitions=[\n",
    "            {'Name':'train:loss', 'Regex':'Train Loss: (.*?);'},\n",
    "            {'Name':'val:loss', 'Regex':'Validation Loss: (.*?),'},\n",
    "        ],\n",
    "        enable_sagemaker_metrics=True,\n",
    "    )\n",
    "    \n",
    "    # Now associate the estimator with the Experiment and Trial\n",
    "    estimator.fit(\n",
    "        inputs={'training': inputs}, \n",
    "        experiment_config={\n",
    "            \"TrialName\": mnist_trial.trial_name,\n",
    "            \"TrialComponentDisplayName\": \"Training\",\n",
    "        },\n",
    "        wait=True,\n",
    "    )\n",
    "    \n",
    "    # give it a while before dispatching the next training job\n",
    "    time.sleep(5)"
   ]
  },
  {
   "cell_type": "code",
   "execution_count": null,
   "id": "impressive-costume",
   "metadata": {},
   "outputs": [],
   "source": []
  }
 ],
 "metadata": {
  "kernelspec": {
   "display_name": "aws-sagemaker",
   "language": "python",
   "name": "aws-sagemaker"
  },
  "language_info": {
   "codemirror_mode": {
    "name": "ipython",
    "version": 3
   },
   "file_extension": ".py",
   "mimetype": "text/x-python",
   "name": "python",
   "nbconvert_exporter": "python",
   "pygments_lexer": "ipython3",
   "version": "3.7.9"
  }
 },
 "nbformat": 4,
 "nbformat_minor": 5
}
